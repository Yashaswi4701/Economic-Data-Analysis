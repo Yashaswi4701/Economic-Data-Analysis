{
 "cells": [
  {
   "cell_type": "code",
   "execution_count": 4,
   "id": "46a56f17",
   "metadata": {},
   "outputs": [
    {
     "ename": "OptionError",
     "evalue": "'Pattern matched multiple keys'",
     "output_type": "error",
     "traceback": [
      "\u001b[1;31m---------------------------------------------------------------------------\u001b[0m",
      "\u001b[1;31mOptionError\u001b[0m                               Traceback (most recent call last)",
      "\u001b[1;32m~\\AppData\\Local\\Temp\\ipykernel_10152\\4235949063.py\u001b[0m in \u001b[0;36m<module>\u001b[1;34m\u001b[0m\n\u001b[0;32m      6\u001b[0m \u001b[1;33m\u001b[0m\u001b[0m\n\u001b[0;32m      7\u001b[0m \u001b[0mplt\u001b[0m\u001b[1;33m.\u001b[0m\u001b[0mstyle\u001b[0m\u001b[1;33m.\u001b[0m\u001b[0muse\u001b[0m\u001b[1;33m(\u001b[0m\u001b[1;34m'fivethirtyeight'\u001b[0m\u001b[1;33m)\u001b[0m\u001b[1;33m\u001b[0m\u001b[1;33m\u001b[0m\u001b[0m\n\u001b[1;32m----> 8\u001b[1;33m \u001b[0mpd\u001b[0m\u001b[1;33m.\u001b[0m\u001b[0mset_option\u001b[0m\u001b[1;33m(\u001b[0m\u001b[1;34m'max_columns'\u001b[0m\u001b[1;33m,\u001b[0m \u001b[1;36m500\u001b[0m\u001b[1;33m)\u001b[0m\u001b[1;33m\u001b[0m\u001b[1;33m\u001b[0m\u001b[0m\n\u001b[0m\u001b[0;32m      9\u001b[0m \u001b[0mcolor_pal\u001b[0m \u001b[1;33m=\u001b[0m \u001b[0mplt\u001b[0m\u001b[1;33m.\u001b[0m\u001b[0mrcParams\u001b[0m\u001b[1;33m[\u001b[0m\u001b[1;34m\"axes.prop_cycle\"\u001b[0m\u001b[1;33m]\u001b[0m\u001b[1;33m.\u001b[0m\u001b[0mby_key\u001b[0m\u001b[1;33m(\u001b[0m\u001b[1;33m)\u001b[0m\u001b[1;33m[\u001b[0m\u001b[1;34m\"color\"\u001b[0m\u001b[1;33m]\u001b[0m\u001b[1;33m\u001b[0m\u001b[1;33m\u001b[0m\u001b[0m\n\u001b[0;32m     10\u001b[0m \u001b[1;33m\u001b[0m\u001b[0m\n",
      "\u001b[1;32m~\\anaconda3\\lib\\site-packages\\pandas\\_config\\config.py\u001b[0m in \u001b[0;36m__call__\u001b[1;34m(self, *args, **kwds)\u001b[0m\n\u001b[0;32m    254\u001b[0m \u001b[1;33m\u001b[0m\u001b[0m\n\u001b[0;32m    255\u001b[0m     \u001b[1;32mdef\u001b[0m \u001b[0m__call__\u001b[0m\u001b[1;33m(\u001b[0m\u001b[0mself\u001b[0m\u001b[1;33m,\u001b[0m \u001b[1;33m*\u001b[0m\u001b[0margs\u001b[0m\u001b[1;33m,\u001b[0m \u001b[1;33m**\u001b[0m\u001b[0mkwds\u001b[0m\u001b[1;33m)\u001b[0m\u001b[1;33m:\u001b[0m\u001b[1;33m\u001b[0m\u001b[1;33m\u001b[0m\u001b[0m\n\u001b[1;32m--> 256\u001b[1;33m         \u001b[1;32mreturn\u001b[0m \u001b[0mself\u001b[0m\u001b[1;33m.\u001b[0m\u001b[0m__func__\u001b[0m\u001b[1;33m(\u001b[0m\u001b[1;33m*\u001b[0m\u001b[0margs\u001b[0m\u001b[1;33m,\u001b[0m \u001b[1;33m**\u001b[0m\u001b[0mkwds\u001b[0m\u001b[1;33m)\u001b[0m\u001b[1;33m\u001b[0m\u001b[1;33m\u001b[0m\u001b[0m\n\u001b[0m\u001b[0;32m    257\u001b[0m \u001b[1;33m\u001b[0m\u001b[0m\n\u001b[0;32m    258\u001b[0m     \u001b[1;33m@\u001b[0m\u001b[0mproperty\u001b[0m\u001b[1;33m\u001b[0m\u001b[1;33m\u001b[0m\u001b[0m\n",
      "\u001b[1;32m~\\anaconda3\\lib\\site-packages\\pandas\\_config\\config.py\u001b[0m in \u001b[0;36m_set_option\u001b[1;34m(*args, **kwargs)\u001b[0m\n\u001b[0;32m    147\u001b[0m \u001b[1;33m\u001b[0m\u001b[0m\n\u001b[0;32m    148\u001b[0m     \u001b[1;32mfor\u001b[0m \u001b[0mk\u001b[0m\u001b[1;33m,\u001b[0m \u001b[0mv\u001b[0m \u001b[1;32min\u001b[0m \u001b[0mzip\u001b[0m\u001b[1;33m(\u001b[0m\u001b[0margs\u001b[0m\u001b[1;33m[\u001b[0m\u001b[1;33m:\u001b[0m\u001b[1;33m:\u001b[0m\u001b[1;36m2\u001b[0m\u001b[1;33m]\u001b[0m\u001b[1;33m,\u001b[0m \u001b[0margs\u001b[0m\u001b[1;33m[\u001b[0m\u001b[1;36m1\u001b[0m\u001b[1;33m:\u001b[0m\u001b[1;33m:\u001b[0m\u001b[1;36m2\u001b[0m\u001b[1;33m]\u001b[0m\u001b[1;33m)\u001b[0m\u001b[1;33m:\u001b[0m\u001b[1;33m\u001b[0m\u001b[1;33m\u001b[0m\u001b[0m\n\u001b[1;32m--> 149\u001b[1;33m         \u001b[0mkey\u001b[0m \u001b[1;33m=\u001b[0m \u001b[0m_get_single_key\u001b[0m\u001b[1;33m(\u001b[0m\u001b[0mk\u001b[0m\u001b[1;33m,\u001b[0m \u001b[0msilent\u001b[0m\u001b[1;33m)\u001b[0m\u001b[1;33m\u001b[0m\u001b[1;33m\u001b[0m\u001b[0m\n\u001b[0m\u001b[0;32m    150\u001b[0m \u001b[1;33m\u001b[0m\u001b[0m\n\u001b[0;32m    151\u001b[0m         \u001b[0mo\u001b[0m \u001b[1;33m=\u001b[0m \u001b[0m_get_registered_option\u001b[0m\u001b[1;33m(\u001b[0m\u001b[0mkey\u001b[0m\u001b[1;33m)\u001b[0m\u001b[1;33m\u001b[0m\u001b[1;33m\u001b[0m\u001b[0m\n",
      "\u001b[1;32m~\\anaconda3\\lib\\site-packages\\pandas\\_config\\config.py\u001b[0m in \u001b[0;36m_get_single_key\u001b[1;34m(pat, silent)\u001b[0m\n\u001b[0;32m    114\u001b[0m         \u001b[1;32mraise\u001b[0m \u001b[0mOptionError\u001b[0m\u001b[1;33m(\u001b[0m\u001b[1;34mf\"No such keys(s): {repr(pat)}\"\u001b[0m\u001b[1;33m)\u001b[0m\u001b[1;33m\u001b[0m\u001b[1;33m\u001b[0m\u001b[0m\n\u001b[0;32m    115\u001b[0m     \u001b[1;32mif\u001b[0m \u001b[0mlen\u001b[0m\u001b[1;33m(\u001b[0m\u001b[0mkeys\u001b[0m\u001b[1;33m)\u001b[0m \u001b[1;33m>\u001b[0m \u001b[1;36m1\u001b[0m\u001b[1;33m:\u001b[0m\u001b[1;33m\u001b[0m\u001b[1;33m\u001b[0m\u001b[0m\n\u001b[1;32m--> 116\u001b[1;33m         \u001b[1;32mraise\u001b[0m \u001b[0mOptionError\u001b[0m\u001b[1;33m(\u001b[0m\u001b[1;34m\"Pattern matched multiple keys\"\u001b[0m\u001b[1;33m)\u001b[0m\u001b[1;33m\u001b[0m\u001b[1;33m\u001b[0m\u001b[0m\n\u001b[0m\u001b[0;32m    117\u001b[0m     \u001b[0mkey\u001b[0m \u001b[1;33m=\u001b[0m \u001b[0mkeys\u001b[0m\u001b[1;33m[\u001b[0m\u001b[1;36m0\u001b[0m\u001b[1;33m]\u001b[0m\u001b[1;33m\u001b[0m\u001b[1;33m\u001b[0m\u001b[0m\n\u001b[0;32m    118\u001b[0m \u001b[1;33m\u001b[0m\u001b[0m\n",
      "\u001b[1;31mOptionError\u001b[0m: 'Pattern matched multiple keys'"
     ]
    }
   ],
   "source": [
    "import pandas as pd\n",
    "import numpy as np\n",
    "import matplotlib.pyplot as plt\n",
    "import plotly.express as px\n",
    "import time\n",
    "\n",
    "plt.style.use('fivethirtyeight')\n",
    "pd.set_option('max_columns', 500)\n",
    "color_pal = plt.rcParams[\"axes.prop_cycle\"].by_key()[\"color\"]\n",
    "\n",
    "from fredapi import Fred\n",
    "\n",
    "fred_key = 'key_name'\n",
    "\n",
    "from kaggle_secrets import UserSecretsClient\n",
    "secrets = UserSecretsClient()\n",
    "fred_key = secrets.get_secret('fred-api')"
   ]
  },
  {
   "cell_type": "code",
   "execution_count": null,
   "id": "41a9b626",
   "metadata": {},
   "outputs": [],
   "source": [
    "fred = Fred(api_key=fred_key)"
   ]
  },
  {
   "cell_type": "code",
   "execution_count": null,
   "id": "e8f5bdba",
   "metadata": {},
   "outputs": [],
   "source": [
    "sp_search = fred.search('S&P', order_by='popularity')"
   ]
  },
  {
   "cell_type": "code",
   "execution_count": null,
   "id": "b87afa17",
   "metadata": {},
   "outputs": [],
   "source": [
    "sp_search.head()"
   ]
  },
  {
   "cell_type": "code",
   "execution_count": null,
   "id": "4bd12a40",
   "metadata": {},
   "outputs": [],
   "source": [
    "sp500 = fred.get_series(series_id='SP500')\n",
    "sp500.plot(figsize=(10, 5), title='S&P 500', lw=2)\n",
    "plt.show()"
   ]
  },
  {
   "cell_type": "code",
   "execution_count": null,
   "id": "ff4dd271",
   "metadata": {},
   "outputs": [],
   "source": [
    "unemp_df = fred.search('unemployment rate state', filter=('frequency','Monthly'))\n",
    "unemp_df = unemp_df.query('seasonal_adjustment == \"Seasonally Adjusted\" and units == \"Percent\"')\n",
    "unemp_df = unemp_df.loc[unemp_df['title'].str.contains('Unemployment Rate')]"
   ]
  },
  {
   "cell_type": "code",
   "execution_count": null,
   "id": "1a8a6cd9",
   "metadata": {},
   "outputs": [],
   "source": [
    "all_results = []\n",
    "\n",
    "for myid in unemp_df.index:\n",
    "    results = fred.get_series(myid)\n",
    "    results = results.to_frame(name=myid)\n",
    "    all_results.append(results)\n",
    "    time.sleep(0.1) # Don't request to fast and get blocked\n",
    "uemp_results = pd.concat(all_results, axis=1)"
   ]
  },
  {
   "cell_type": "code",
   "execution_count": null,
   "id": "865d32bc",
   "metadata": {},
   "outputs": [],
   "source": [
    "cols_to_drop = []\n",
    "for i in uemp_results:\n",
    "    if len(i) > 4:\n",
    "        cols_to_drop.append(i)\n",
    "uemp_results = uemp_results.drop(columns = cols_to_drop, axis=1)"
   ]
  },
  {
   "cell_type": "code",
   "execution_count": null,
   "id": "19e9d191",
   "metadata": {},
   "outputs": [],
   "source": [
    "uemp_states = uemp_results.copy()  #.drop('UNRATE', axis=1)\n",
    "uemp_states = uemp_states.dropna()\n",
    "id_to_state = unemp_df['title'].str.replace('Unemployment Rate in ','').to_dict()\n",
    "uemp_states.columns = [id_to_state[c] for c in uemp_states.columns]"
   ]
  },
  {
   "cell_type": "code",
   "execution_count": null,
   "id": "f12fff1c",
   "metadata": {},
   "outputs": [],
   "source": [
    "px.line(uemp_states)"
   ]
  },
  {
   "cell_type": "code",
   "execution_count": null,
   "id": "97842795",
   "metadata": {},
   "outputs": [],
   "source": [
    "ax = uemp_states.loc[uemp_states.index == '2020-05-01'].T \\\n",
    "    .sort_values('2020-05-01') \\\n",
    "    .plot(kind='barh', figsize=(8, 12), width=0.7, edgecolor='black',\n",
    "          title='Unemployment Rate by State, May 2020')\n",
    "ax.legend().remove()\n",
    "ax.set_xlabel('% Unemployed')\n",
    "plt.show()"
   ]
  },
  {
   "cell_type": "code",
   "execution_count": null,
   "id": "099a53a3",
   "metadata": {},
   "outputs": [],
   "source": [
    "part_df = fred.search('participation rate state', filter=('frequency','Monthly'))\n",
    "part_df = part_df.query('seasonal_adjustment == \"Seasonally Adjusted\" and units == \"Percent\"')"
   ]
  },
  {
   "cell_type": "code",
   "execution_count": null,
   "id": "9e633643",
   "metadata": {},
   "outputs": [],
   "source": [
    "part_id_to_state = part_df['title'].str.replace('Labor Force Participation Rate for ','').to_dict()\n",
    "\n",
    "all_results = []\n",
    "\n",
    "for myid in part_df.index:\n",
    "    results = fred.get_series(myid)\n",
    "    results = results.to_frame(name=myid)\n",
    "    all_results.append(results)\n",
    "    time.sleep(0.1) # Don't request to fast and get blocked\n",
    "part_states = pd.concat(all_results, axis=1)\n",
    "part_states.columns = [part_id_to_state[c] for c in part_states.columns]"
   ]
  },
  {
   "cell_type": "code",
   "execution_count": null,
   "id": "a5ec7162",
   "metadata": {},
   "outputs": [],
   "source": [
    "# Fix DC\n",
    "uemp_states = uemp_states.rename(columns={'the District of Columbia':'District Of Columbia'})"
   ]
  },
  {
   "cell_type": "code",
   "execution_count": null,
   "id": "b3f8e20e",
   "metadata": {},
   "outputs": [],
   "source": [
    "fig, axs = plt.subplots(10, 5, figsize=(30, 30), sharex=True)\n",
    "axs = axs.flatten()\n",
    "\n",
    "i = 0\n",
    "for state in uemp_states.columns:\n",
    "    if state in [\"District Of Columbia\",\"Puerto Rico\"]:\n",
    "        continue\n",
    "    ax2 = axs[i].twinx()\n",
    "    uemp_states.query('index >= 2020 and index < 2022')[state] \\\n",
    "        .plot(ax=axs[i], label='Unemployment')\n",
    "    part_states.query('index >= 2020 and index < 2022')[state] \\\n",
    "        .plot(ax=ax2, label='Participation', color=color_pal[1])\n",
    "    ax2.grid(False)\n",
    "    axs[i].set_title(state)\n",
    "    i += 1\n",
    "plt.tight_layout()\n",
    "plt.show()"
   ]
  },
  {
   "cell_type": "code",
   "execution_count": 1,
   "id": "e72ac5e0",
   "metadata": {},
   "outputs": [
    {
     "ename": "NameError",
     "evalue": "name 'plt' is not defined",
     "output_type": "error",
     "traceback": [
      "\u001b[1;31m---------------------------------------------------------------------------\u001b[0m",
      "\u001b[1;31mNameError\u001b[0m                                 Traceback (most recent call last)",
      "\u001b[1;32m~\\AppData\\Local\\Temp\\ipykernel_10152\\750342406.py\u001b[0m in \u001b[0;36m<module>\u001b[1;34m\u001b[0m\n\u001b[0;32m      1\u001b[0m \u001b[0mstate\u001b[0m \u001b[1;33m=\u001b[0m \u001b[1;34m'California'\u001b[0m\u001b[1;33m\u001b[0m\u001b[1;33m\u001b[0m\u001b[0m\n\u001b[1;32m----> 2\u001b[1;33m \u001b[0mfig\u001b[0m\u001b[1;33m,\u001b[0m \u001b[0max\u001b[0m \u001b[1;33m=\u001b[0m \u001b[0mplt\u001b[0m\u001b[1;33m.\u001b[0m\u001b[0msubplots\u001b[0m\u001b[1;33m(\u001b[0m\u001b[0mfigsize\u001b[0m\u001b[1;33m=\u001b[0m\u001b[1;33m(\u001b[0m\u001b[1;36m10\u001b[0m\u001b[1;33m,\u001b[0m \u001b[1;36m5\u001b[0m\u001b[1;33m)\u001b[0m\u001b[1;33m,\u001b[0m \u001b[0msharex\u001b[0m\u001b[1;33m=\u001b[0m\u001b[1;32mTrue\u001b[0m\u001b[1;33m)\u001b[0m\u001b[1;33m\u001b[0m\u001b[1;33m\u001b[0m\u001b[0m\n\u001b[0m\u001b[0;32m      3\u001b[0m \u001b[0max2\u001b[0m \u001b[1;33m=\u001b[0m \u001b[0max\u001b[0m\u001b[1;33m.\u001b[0m\u001b[0mtwinx\u001b[0m\u001b[1;33m(\u001b[0m\u001b[1;33m)\u001b[0m\u001b[1;33m\u001b[0m\u001b[1;33m\u001b[0m\u001b[0m\n\u001b[0;32m      4\u001b[0m \u001b[0muemp_states2\u001b[0m \u001b[1;33m=\u001b[0m \u001b[0muemp_states\u001b[0m\u001b[1;33m.\u001b[0m\u001b[0masfreq\u001b[0m\u001b[1;33m(\u001b[0m\u001b[1;34m'MS'\u001b[0m\u001b[1;33m)\u001b[0m\u001b[1;33m\u001b[0m\u001b[1;33m\u001b[0m\u001b[0m\n\u001b[0;32m      5\u001b[0m \u001b[0ml1\u001b[0m \u001b[1;33m=\u001b[0m \u001b[0muemp_states2\u001b[0m\u001b[1;33m.\u001b[0m\u001b[0mquery\u001b[0m\u001b[1;33m(\u001b[0m\u001b[1;34m'index >= 2020 and index < 2022'\u001b[0m\u001b[1;33m)\u001b[0m\u001b[1;33m[\u001b[0m\u001b[0mstate\u001b[0m\u001b[1;33m]\u001b[0m\u001b[0;31m \u001b[0m\u001b[0;31m\\\u001b[0m\u001b[1;33m\u001b[0m\u001b[1;33m\u001b[0m\u001b[0m\n",
      "\u001b[1;31mNameError\u001b[0m: name 'plt' is not defined"
     ]
    }
   ],
   "source": [
    "state = 'California'\n",
    "fig, ax = plt.subplots(figsize=(10, 5), sharex=True)\n",
    "ax2 = ax.twinx()\n",
    "uemp_states2 = uemp_states.asfreq('MS')\n",
    "l1 = uemp_states2.query('index >= 2020 and index < 2022')[state] \\\n",
    "    .plot(ax=ax, label='Unemployment')\n",
    "l2 = part_states.dropna().query('index >= 2020 and index < 2022')[state] \\\n",
    "    .plot(ax=ax2, label='Participation', color=color_pal[1])\n",
    "ax2.grid(False)\n",
    "ax.set_title(state)\n",
    "fig.legend(labels=['Unemployment','Participation'])\n",
    "plt.show()"
   ]
  },
  {
   "cell_type": "code",
   "execution_count": null,
   "id": "b0b4aae3",
   "metadata": {},
   "outputs": [],
   "source": []
  }
 ],
 "metadata": {
  "kernelspec": {
   "display_name": "Python 3 (ipykernel)",
   "language": "python",
   "name": "python3"
  },
  "language_info": {
   "codemirror_mode": {
    "name": "ipython",
    "version": 3
   },
   "file_extension": ".py",
   "mimetype": "text/x-python",
   "name": "python",
   "nbconvert_exporter": "python",
   "pygments_lexer": "ipython3",
   "version": "3.9.13"
  }
 },
 "nbformat": 4,
 "nbformat_minor": 5
}
